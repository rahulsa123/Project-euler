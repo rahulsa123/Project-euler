{
 "cells": [
  {
   "cell_type": "code",
   "execution_count": 1,
   "metadata": {},
   "outputs": [],
   "source": [
    "l = [\n",
    "    [[9,0,3,4,2],2],\n",
    "    [[7,0,7,9,4],0],\n",
    "    [[3,9,4,5,8],2],\n",
    "    [[3,4,1,0,9],1],\n",
    "    [[5,1,5,4,5],2],\n",
    "    [[1,2,5,3,1],1],\n",
    "]\n"
   ]
  },
  {
   "cell_type": "code",
   "execution_count": 2,
   "metadata": {},
   "outputs": [
    {
     "data": {
      "text/plain": [
       "[[[9, 0, 3, 4, 2], 2],\n",
       " [[7, 0, 7, 9, 4], 0],\n",
       " [[3, 9, 4, 5, 8], 2],\n",
       " [[3, 4, 1, 0, 9], 1],\n",
       " [[5, 1, 5, 4, 5], 2],\n",
       " [[1, 2, 5, 3, 1], 1]]"
      ]
     },
     "execution_count": 2,
     "metadata": {},
     "output_type": "execute_result"
    }
   ],
   "source": [
    "l"
   ]
  },
  {
   "cell_type": "code",
   "execution_count": 3,
   "metadata": {},
   "outputs": [],
   "source": [
    "#first remove all 0 element from other list\n",
    "for ix,i in enumerate(l):\n",
    "    if i[1]==0:\n",
    "        for jx, j in enumerate(l):\n",
    "            if ix==jx:\n",
    "                continue\n",
    "            for ind in range(5):\n",
    "                if i[0][ind]==j[0][ind]:\n",
    "                    j[0][ind]=-1\n"
   ]
  },
  {
   "cell_type": "code",
   "execution_count": 4,
   "metadata": {},
   "outputs": [
    {
     "data": {
      "text/plain": [
       "[[[9, -1, 3, 4, 2], 2],\n",
       " [[7, 0, 7, 9, 4], 0],\n",
       " [[3, 9, 4, 5, 8], 2],\n",
       " [[3, 4, 1, 0, 9], 1],\n",
       " [[5, 1, 5, 4, 5], 2],\n",
       " [[1, 2, 5, 3, 1], 1]]"
      ]
     },
     "execution_count": 4,
     "metadata": {},
     "output_type": "execute_result"
    }
   ],
   "source": [
    "l"
   ]
  },
  {
   "cell_type": "code",
   "execution_count": 5,
   "metadata": {},
   "outputs": [
    {
     "data": {
      "text/plain": [
       "[[[9, -1, 3, 4, 2], 2],\n",
       " [[3, 9, 4, 5, 8], 2],\n",
       " [[3, 4, 1, 0, 9], 1],\n",
       " [[5, 1, 5, 4, 5], 2],\n",
       " [[1, 2, 5, 3, 1], 1]]"
      ]
     },
     "execution_count": 5,
     "metadata": {},
     "output_type": "execute_result"
    }
   ],
   "source": [
    "# now remove 0 row\n",
    "i=0\n",
    "while(i!=len(l)):\n",
    "    if l[i][1]==0:\n",
    "        l = l[0:i]+l[i+1:]\n",
    "    else:\n",
    "        i+=1\n",
    "l"
   ]
  },
  {
   "cell_type": "code",
   "execution_count": null,
   "metadata": {},
   "outputs": [],
   "source": []
  }
 ],
 "metadata": {
  "kernelspec": {
   "display_name": "Python 3",
   "language": "python",
   "name": "python3"
  },
  "language_info": {
   "codemirror_mode": {
    "name": "ipython",
    "version": 3
   },
   "file_extension": ".py",
   "mimetype": "text/x-python",
   "name": "python",
   "nbconvert_exporter": "python",
   "pygments_lexer": "ipython3",
   "version": "3.7.5"
  }
 },
 "nbformat": 4,
 "nbformat_minor": 2
}
